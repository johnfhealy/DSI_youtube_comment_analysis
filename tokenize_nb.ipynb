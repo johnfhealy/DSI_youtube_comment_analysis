{
 "cells": [
  {
   "cell_type": "code",
   "execution_count": 1,
   "metadata": {},
   "outputs": [],
   "source": [
    "from nltk.classify import NaiveBayesClassifier\n",
    "from nltk.corpus import subjectivity \n",
    "from nltk.sentiment import SentimentAnalyzer, SentimentIntensityAnalyzer\n",
    "from nltk import word_tokenize\n",
    "from nltk.sentiment.util import *\n",
    "import pandas as pd\n",
    "from sklearn.feature_extraction.text import CountVectorizer "
   ]
  },
  {
   "cell_type": "code",
   "execution_count": 2,
   "metadata": {},
   "outputs": [],
   "source": [
    "df = pd.read_csv('full.csv')"
   ]
  },
  {
   "cell_type": "code",
   "execution_count": 3,
   "metadata": {},
   "outputs": [
    {
     "data": {
      "text/html": [
       "<div>\n",
       "<style scoped>\n",
       "    .dataframe tbody tr th:only-of-type {\n",
       "        vertical-align: middle;\n",
       "    }\n",
       "\n",
       "    .dataframe tbody tr th {\n",
       "        vertical-align: top;\n",
       "    }\n",
       "\n",
       "    .dataframe thead th {\n",
       "        text-align: right;\n",
       "    }\n",
       "</style>\n",
       "<table border=\"1\" class=\"dataframe\">\n",
       "  <thead>\n",
       "    <tr style=\"text-align: right;\">\n",
       "      <th></th>\n",
       "      <th>user</th>\n",
       "      <th>timestamp</th>\n",
       "      <th>commentText</th>\n",
       "      <th>y_label</th>\n",
       "      <th>likes</th>\n",
       "      <th>hasReplies</th>\n",
       "      <th>replies.commentText</th>\n",
       "    </tr>\n",
       "  </thead>\n",
       "  <tbody>\n",
       "    <tr>\n",
       "      <th>0</th>\n",
       "      <td>Yasmin Sallam</td>\n",
       "      <td>1556813178506</td>\n",
       "      <td>Ok so I’m muslim, so we only eat halal foods,w...</td>\n",
       "      <td>0</td>\n",
       "      <td>0</td>\n",
       "      <td>False</td>\n",
       "      <td>NaN</td>\n",
       "    </tr>\n",
       "    <tr>\n",
       "      <th>1</th>\n",
       "      <td>Tara Z</td>\n",
       "      <td>1556812818508</td>\n",
       "      <td>As a vegan, I felt very uncomfortable with wat...</td>\n",
       "      <td>1</td>\n",
       "      <td>1</td>\n",
       "      <td>False</td>\n",
       "      <td>NaN</td>\n",
       "    </tr>\n",
       "    <tr>\n",
       "      <th>2</th>\n",
       "      <td>QueenEm</td>\n",
       "      <td>1556807658510</td>\n",
       "      <td>In all honesty, vegan eating is actually more ...</td>\n",
       "      <td>0</td>\n",
       "      <td>0</td>\n",
       "      <td>False</td>\n",
       "      <td>NaN</td>\n",
       "    </tr>\n",
       "    <tr>\n",
       "      <th>3</th>\n",
       "      <td>Jenda Mh</td>\n",
       "      <td>1556804058512</td>\n",
       "      <td>Enjoying my steak while watching this, remembe...</td>\n",
       "      <td>0</td>\n",
       "      <td>0</td>\n",
       "      <td>False</td>\n",
       "      <td>NaN</td>\n",
       "    </tr>\n",
       "    <tr>\n",
       "      <th>4</th>\n",
       "      <td>Cavalio Thorson</td>\n",
       "      <td>1556800458514</td>\n",
       "      <td>That girl is the type to try and make me feel ...</td>\n",
       "      <td>0</td>\n",
       "      <td>2</td>\n",
       "      <td>False</td>\n",
       "      <td>NaN</td>\n",
       "    </tr>\n",
       "  </tbody>\n",
       "</table>\n",
       "</div>"
      ],
      "text/plain": [
       "              user      timestamp  \\\n",
       "0    Yasmin Sallam  1556813178506   \n",
       "1           Tara Z  1556812818508   \n",
       "2          QueenEm  1556807658510   \n",
       "3         Jenda Mh  1556804058512   \n",
       "4  Cavalio Thorson  1556800458514   \n",
       "\n",
       "                                         commentText y_label  likes  \\\n",
       "0  Ok so I’m muslim, so we only eat halal foods,w...       0      0   \n",
       "1  As a vegan, I felt very uncomfortable with wat...       1      1   \n",
       "2  In all honesty, vegan eating is actually more ...       0      0   \n",
       "3  Enjoying my steak while watching this, remembe...       0      0   \n",
       "4  That girl is the type to try and make me feel ...       0      2   \n",
       "\n",
       "   hasReplies  replies.commentText  \n",
       "0       False                  NaN  \n",
       "1       False                  NaN  \n",
       "2       False                  NaN  \n",
       "3       False                  NaN  \n",
       "4       False                  NaN  "
      ]
     },
     "execution_count": 3,
     "metadata": {},
     "output_type": "execute_result"
    }
   ],
   "source": [
    "df.head()"
   ]
  },
  {
   "cell_type": "code",
   "execution_count": 4,
   "metadata": {},
   "outputs": [],
   "source": [
    "sent1 = df['commentText'][0]"
   ]
  },
  {
   "cell_type": "code",
   "execution_count": 5,
   "metadata": {},
   "outputs": [],
   "source": [
    "tokes = word_tokenize(sent1)"
   ]
  },
  {
   "cell_type": "code",
   "execution_count": 6,
   "metadata": {},
   "outputs": [],
   "source": [
    "n_instances= 100\n",
    "subj_docs = [(sent, 'subj') for sent in subjectivity.sents(categories='subj')[:n_instances]]\n",
    "obj_docs = [(sent, 'obj') for sent in subjectivity.sents(categories='obj')[:n_instances]]"
   ]
  },
  {
   "cell_type": "code",
   "execution_count": 7,
   "metadata": {},
   "outputs": [],
   "source": [
    "train_subj_docs = subj_docs[:80]\n",
    "test_subj_docs = subj_docs[80:100]\n",
    "train_obj_docs = obj_docs[:80]\n",
    "test_obj_docs = obj_docs[80:100]\n",
    "training_docs = train_subj_docs+train_obj_docs\n",
    "testing_docs = test_subj_docs+test_obj_docs"
   ]
  },
  {
   "cell_type": "code",
   "execution_count": 8,
   "metadata": {},
   "outputs": [],
   "source": [
    "sentim_analyzer = SentimentAnalyzer()\n",
    "all_words_neg = sentim_analyzer.all_words([mark_negation(doc) for doc in training_docs])"
   ]
  },
  {
   "cell_type": "code",
   "execution_count": 9,
   "metadata": {},
   "outputs": [
    {
     "data": {
      "text/plain": [
       "['smart', 'and', 'alert', ',', 'thirteen']"
      ]
     },
     "execution_count": 9,
     "metadata": {},
     "output_type": "execute_result"
    }
   ],
   "source": [
    "all_words_neg[:5]"
   ]
  },
  {
   "cell_type": "code",
   "execution_count": 10,
   "metadata": {},
   "outputs": [],
   "source": [
    "sid = SentimentIntensityAnalyzer()"
   ]
  },
  {
   "cell_type": "code",
   "execution_count": 11,
   "metadata": {},
   "outputs": [
    {
     "data": {
      "text/plain": [
       "{'neg': 0.175, 'neu': 0.593, 'pos': 0.232, 'compound': 0.2933}"
      ]
     },
     "execution_count": 11,
     "metadata": {},
     "output_type": "execute_result"
    }
   ],
   "source": [
    "sid.polarity_scores(sent1)"
   ]
  },
  {
   "cell_type": "code",
   "execution_count": 12,
   "metadata": {},
   "outputs": [],
   "source": [
    "#instantiate a SentimentIntensity\n",
    "#save polarity scores as dict\n",
    "#create new neg column\n",
    "def intenser_neg(words):\n",
    "    ss = SentimentIntensityAnalyzer()\n",
    "    a = ss.polarity_scores(words)\n",
    "    return a['neg']"
   ]
  },
  {
   "cell_type": "code",
   "execution_count": 13,
   "metadata": {},
   "outputs": [
    {
     "data": {
      "text/plain": [
       "0     0.175\n",
       "1     0.135\n",
       "2     0.000\n",
       "3     0.000\n",
       "4     0.132\n",
       "5     0.000\n",
       "6     0.000\n",
       "7     0.298\n",
       "8     0.267\n",
       "9     0.000\n",
       "10    0.113\n",
       "11    0.000\n",
       "12    0.244\n",
       "13    0.000\n",
       "14    0.244\n",
       "Name: commentText, dtype: float64"
      ]
     },
     "execution_count": 13,
     "metadata": {},
     "output_type": "execute_result"
    }
   ],
   "source": [
    "df['commentText'].iloc[:15].apply(lambda x: intenser_neg(x))"
   ]
  },
  {
   "cell_type": "code",
   "execution_count": 14,
   "metadata": {},
   "outputs": [],
   "source": [
    "def intenser_pos(words):\n",
    "    ss = SentimentIntensityAnalyzer()\n",
    "    a = ss.polarity_scores(words)\n",
    "    return a['pos']"
   ]
  },
  {
   "cell_type": "code",
   "execution_count": 15,
   "metadata": {},
   "outputs": [
    {
     "data": {
      "text/plain": [
       "0     0.232\n",
       "1     0.267\n",
       "2     0.166\n",
       "3     0.379\n",
       "4     0.000\n",
       "5     0.583\n",
       "6     0.672\n",
       "7     0.000\n",
       "8     0.079\n",
       "9     0.184\n",
       "10    0.000\n",
       "11    0.000\n",
       "12    0.000\n",
       "13    0.237\n",
       "14    0.000\n",
       "15    0.281\n",
       "16    0.220\n",
       "17    0.000\n",
       "18    0.079\n",
       "19    0.000\n",
       "Name: commentText, dtype: float64"
      ]
     },
     "execution_count": 15,
     "metadata": {},
     "output_type": "execute_result"
    }
   ],
   "source": [
    "df['commentText'].iloc[:20].apply(lambda x: intenser_pos(x))"
   ]
  },
  {
   "cell_type": "code",
   "execution_count": 16,
   "metadata": {},
   "outputs": [],
   "source": [
    "sub=pd.read_csv('comments_train_full.csv')"
   ]
  },
  {
   "cell_type": "code",
   "execution_count": 17,
   "metadata": {},
   "outputs": [
    {
     "data": {
      "text/html": [
       "<div>\n",
       "<style scoped>\n",
       "    .dataframe tbody tr th:only-of-type {\n",
       "        vertical-align: middle;\n",
       "    }\n",
       "\n",
       "    .dataframe tbody tr th {\n",
       "        vertical-align: top;\n",
       "    }\n",
       "\n",
       "    .dataframe thead th {\n",
       "        text-align: right;\n",
       "    }\n",
       "</style>\n",
       "<table border=\"1\" class=\"dataframe\">\n",
       "  <thead>\n",
       "    <tr style=\"text-align: right;\">\n",
       "      <th></th>\n",
       "      <th>user</th>\n",
       "      <th>timestamp</th>\n",
       "      <th>commentText</th>\n",
       "      <th>vegan_y/n</th>\n",
       "      <th>likes</th>\n",
       "      <th>hasReplies</th>\n",
       "      <th>replies.commentText</th>\n",
       "    </tr>\n",
       "  </thead>\n",
       "  <tbody>\n",
       "    <tr>\n",
       "      <th>0</th>\n",
       "      <td>Yasmin Sallam</td>\n",
       "      <td>1556813178506</td>\n",
       "      <td>Ok so I’m muslim, so we only eat halal foods,w...</td>\n",
       "      <td>0.0</td>\n",
       "      <td>0</td>\n",
       "      <td>False</td>\n",
       "      <td>NaN</td>\n",
       "    </tr>\n",
       "    <tr>\n",
       "      <th>1</th>\n",
       "      <td>Tara Z</td>\n",
       "      <td>1556812818508</td>\n",
       "      <td>As a vegan, I felt very uncomfortable with wat...</td>\n",
       "      <td>1.0</td>\n",
       "      <td>1</td>\n",
       "      <td>False</td>\n",
       "      <td>NaN</td>\n",
       "    </tr>\n",
       "    <tr>\n",
       "      <th>2</th>\n",
       "      <td>QueenEm</td>\n",
       "      <td>1556807658510</td>\n",
       "      <td>In all honesty, vegan eating is actually more ...</td>\n",
       "      <td>0.0</td>\n",
       "      <td>0</td>\n",
       "      <td>False</td>\n",
       "      <td>NaN</td>\n",
       "    </tr>\n",
       "    <tr>\n",
       "      <th>3</th>\n",
       "      <td>Jenda Mh</td>\n",
       "      <td>1556804058512</td>\n",
       "      <td>Enjoying my steak while watching this, remembe...</td>\n",
       "      <td>0.0</td>\n",
       "      <td>0</td>\n",
       "      <td>False</td>\n",
       "      <td>NaN</td>\n",
       "    </tr>\n",
       "    <tr>\n",
       "      <th>4</th>\n",
       "      <td>Cavalio Thorson</td>\n",
       "      <td>1556800458514</td>\n",
       "      <td>That girl is the type to try and make me feel ...</td>\n",
       "      <td>0.0</td>\n",
       "      <td>2</td>\n",
       "      <td>False</td>\n",
       "      <td>NaN</td>\n",
       "    </tr>\n",
       "  </tbody>\n",
       "</table>\n",
       "</div>"
      ],
      "text/plain": [
       "              user      timestamp  \\\n",
       "0    Yasmin Sallam  1556813178506   \n",
       "1           Tara Z  1556812818508   \n",
       "2          QueenEm  1556807658510   \n",
       "3         Jenda Mh  1556804058512   \n",
       "4  Cavalio Thorson  1556800458514   \n",
       "\n",
       "                                         commentText  vegan_y/n  likes  \\\n",
       "0  Ok so I’m muslim, so we only eat halal foods,w...        0.0      0   \n",
       "1  As a vegan, I felt very uncomfortable with wat...        1.0      1   \n",
       "2  In all honesty, vegan eating is actually more ...        0.0      0   \n",
       "3  Enjoying my steak while watching this, remembe...        0.0      0   \n",
       "4  That girl is the type to try and make me feel ...        0.0      2   \n",
       "\n",
       "   hasReplies  replies.commentText  \n",
       "0       False                  NaN  \n",
       "1       False                  NaN  \n",
       "2       False                  NaN  \n",
       "3       False                  NaN  \n",
       "4       False                  NaN  "
      ]
     },
     "execution_count": 17,
     "metadata": {},
     "output_type": "execute_result"
    }
   ],
   "source": [
    "sub.shape\n",
    "sub.head()"
   ]
  },
  {
   "cell_type": "code",
   "execution_count": 20,
   "metadata": {},
   "outputs": [],
   "source": [
    "vegan = sub[sub['vegan_y/n']==1]\n",
    "Meat = sub[sub['vegan_y/n']==0]"
   ]
  },
  {
   "cell_type": "code",
   "execution_count": 21,
   "metadata": {},
   "outputs": [
    {
     "data": {
      "text/plain": [
       "<1570x3258 sparse matrix of type '<class 'numpy.int64'>'\n",
       "\twith 13385 stored elements in Compressed Sparse Row format>"
      ]
     },
     "execution_count": 21,
     "metadata": {},
     "output_type": "execute_result"
    }
   ],
   "source": [
    "vec = CountVectorizer(stop_words='english')\n",
    "vec.fit_transform(sub['commentText'])\n"
   ]
  },
  {
   "cell_type": "code",
   "execution_count": 63,
   "metadata": {},
   "outputs": [],
   "source": [
    "vegan_words = vec.get_feature_names()"
   ]
  },
  {
   "cell_type": "code",
   "execution_count": 76,
   "metadata": {},
   "outputs": [],
   "source": [
    "def count_vegan(words):\n",
    "    count = 0\n",
    "    words = word_tokenize(words)\n",
    "    for word in words:\n",
    "        if word in vegan_words:\n",
    "            count += 1\n",
    "    return count"
   ]
  },
  {
   "cell_type": "code",
   "execution_count": 86,
   "metadata": {},
   "outputs": [],
   "source": [
    "# def count_non_veg(words):\n",
    "#     count = 0\n",
    "#     words = word_tokenize(words)\n",
    "#     for word in words:\n",
    "#         if word in vegan_words:\n",
    "#             count += 1\n",
    "#     return count"
   ]
  },
  {
   "cell_type": "code",
   "execution_count": 23,
   "metadata": {},
   "outputs": [
    {
     "ename": "NameError",
     "evalue": "name 'count_vegan' is not defined",
     "output_type": "error",
     "traceback": [
      "\u001b[0;31m---------------------------------------------------------------------------\u001b[0m",
      "\u001b[0;31mNameError\u001b[0m                                 Traceback (most recent call last)",
      "\u001b[0;32m<ipython-input-23-aa228567ea52>\u001b[0m in \u001b[0;36m<module>\u001b[0;34m\u001b[0m\n\u001b[0;32m----> 1\u001b[0;31m \u001b[0mcount_vegan\u001b[0m\u001b[0;34m(\u001b[0m\u001b[0msub\u001b[0m\u001b[0;34m[\u001b[0m\u001b[0;34m'commentText'\u001b[0m\u001b[0;34m]\u001b[0m\u001b[0;34m[\u001b[0m\u001b[0;36m0\u001b[0m\u001b[0;34m]\u001b[0m\u001b[0;34m)\u001b[0m\u001b[0;34m\u001b[0m\u001b[0;34m\u001b[0m\u001b[0m\n\u001b[0m",
      "\u001b[0;31mNameError\u001b[0m: name 'count_vegan' is not defined"
     ]
    }
   ],
   "source": [
    "count_vegan(sub['commentText'][0])"
   ]
  },
  {
   "cell_type": "code",
   "execution_count": 89,
   "metadata": {},
   "outputs": [
    {
     "data": {
      "text/plain": [
       "0"
      ]
     },
     "execution_count": 89,
     "metadata": {},
     "output_type": "execute_result"
    }
   ],
   "source": [
    "count_non_veg(sub['commentText'][0])"
   ]
  },
  {
   "cell_type": "code",
   "execution_count": 80,
   "metadata": {},
   "outputs": [],
   "source": [
    "sub['vegan_count'] = sub['commentText'].apply(lambda x: count_vegan(x))"
   ]
  },
  {
   "cell_type": "code",
   "execution_count": null,
   "metadata": {},
   "outputs": [],
   "source": [
    "sub['vegan_count'] = sub['commentText'].apply(lambda x: count_vegan(x))"
   ]
  },
  {
   "cell_type": "code",
   "execution_count": 81,
   "metadata": {},
   "outputs": [
    {
     "data": {
      "text/plain": [
       "array([ 0,  1,  2,  3,  4,  5,  6,  7,  8,  9, 10, 11, 12, 13, 14, 15, 16,\n",
       "       17, 18, 19, 20, 21, 22, 23, 24, 25, 26, 27, 28, 29, 30, 31, 32, 33,\n",
       "       34, 35, 36, 37, 39, 40, 41, 42, 43, 44, 45, 46, 48, 49, 52, 56, 65,\n",
       "       69, 82, 90])"
      ]
     },
     "execution_count": 81,
     "metadata": {},
     "output_type": "execute_result"
    }
   ],
   "source": [
    "import numpy as np\n",
    "np.unique(a)"
   ]
  },
  {
   "cell_type": "code",
   "execution_count": 84,
   "metadata": {},
   "outputs": [
    {
     "data": {
      "text/plain": [
       "<matplotlib.axes._subplots.AxesSubplot at 0x12c33c128>"
      ]
     },
     "execution_count": 84,
     "metadata": {},
     "output_type": "execute_result"
    },
    {
     "data": {
      "image/png": "[encoded data removed]",
      "text/plain": [
       "<Figure size 432x288 with 1 Axes>"
      ]
     },
     "metadata": {
      "needs_background": "light"
     },
     "output_type": "display_data"
    }
   ],
   "source": [
    "%matplotlib inline\n",
    "sub.groupby('vegan_count')['vegan_count'].count().plot(kind = 'bar')"
   ]
  },
  {
   "cell_type": "code",
   "execution_count": 85,
   "metadata": {},
   "outputs": [
    {
     "data": {
      "text/html": [
       "<div>\n",
       "<style scoped>\n",
       "    .dataframe tbody tr th:only-of-type {\n",
       "        vertical-align: middle;\n",
       "    }\n",
       "\n",
       "    .dataframe tbody tr th {\n",
       "        vertical-align: top;\n",
       "    }\n",
       "\n",
       "    .dataframe thead th {\n",
       "        text-align: right;\n",
       "    }\n",
       "</style>\n",
       "<table border=\"1\" class=\"dataframe\">\n",
       "  <thead>\n",
       "    <tr style=\"text-align: right;\">\n",
       "      <th></th>\n",
       "      <th>user</th>\n",
       "      <th>timestamp</th>\n",
       "      <th>commentText</th>\n",
       "      <th>vegan_y/n</th>\n",
       "      <th>likes</th>\n",
       "      <th>hasReplies</th>\n",
       "      <th>replies.commentText</th>\n",
       "      <th>vegan_count</th>\n",
       "    </tr>\n",
       "  </thead>\n",
       "  <tbody>\n",
       "    <tr>\n",
       "      <th>542</th>\n",
       "      <td>twenty one pilots snatched my weave</td>\n",
       "      <td>1555000485098</td>\n",
       "      <td>4:56 i kind of agree with him because YOU are ...</td>\n",
       "      <td>0.0</td>\n",
       "      <td>0</td>\n",
       "      <td>False</td>\n",
       "      <td>NaN</td>\n",
       "      <td>90</td>\n",
       "    </tr>\n",
       "    <tr>\n",
       "      <th>468</th>\n",
       "      <td>Xiylomanic</td>\n",
       "      <td>1555605280605</td>\n",
       "      <td>This comment has spoilers, just so you’re warn...</td>\n",
       "      <td>0.0</td>\n",
       "      <td>0</td>\n",
       "      <td>False</td>\n",
       "      <td>NaN</td>\n",
       "      <td>82</td>\n",
       "    </tr>\n",
       "    <tr>\n",
       "      <th>661</th>\n",
       "      <td>freeflying angel</td>\n",
       "      <td>1554222890570</td>\n",
       "      <td>One simplest question to vegans i got no probl...</td>\n",
       "      <td>0.0</td>\n",
       "      <td>0</td>\n",
       "      <td>False</td>\n",
       "      <td>NaN</td>\n",
       "      <td>69</td>\n",
       "    </tr>\n",
       "    <tr>\n",
       "      <th>662</th>\n",
       "      <td>freeflying angel</td>\n",
       "      <td>1554222890572</td>\n",
       "      <td>One simplest question to vegans i got no probl...</td>\n",
       "      <td>0.0</td>\n",
       "      <td>0</td>\n",
       "      <td>False</td>\n",
       "      <td>NaN</td>\n",
       "      <td>69</td>\n",
       "    </tr>\n",
       "    <tr>\n",
       "      <th>736</th>\n",
       "      <td>Murry Bubbles</td>\n",
       "      <td>1554222893601</td>\n",
       "      <td>Those vegans are not open minded especially th...</td>\n",
       "      <td>0.0</td>\n",
       "      <td>0</td>\n",
       "      <td>False</td>\n",
       "      <td>NaN</td>\n",
       "      <td>65</td>\n",
       "    </tr>\n",
       "  </tbody>\n",
       "</table>\n",
       "</div>"
      ],
      "text/plain": [
       "                                    user      timestamp  \\\n",
       "542  twenty one pilots snatched my weave  1555000485098   \n",
       "468                           Xiylomanic  1555605280605   \n",
       "661                     freeflying angel  1554222890570   \n",
       "662                     freeflying angel  1554222890572   \n",
       "736                        Murry Bubbles  1554222893601   \n",
       "\n",
       "                                           commentText  vegan_y/n  likes  \\\n",
       "542  4:56 i kind of agree with him because YOU are ...        0.0      0   \n",
       "468  This comment has spoilers, just so you’re warn...        0.0      0   \n",
       "661  One simplest question to vegans i got no probl...        0.0      0   \n",
       "662  One simplest question to vegans i got no probl...        0.0      0   \n",
       "736  Those vegans are not open minded especially th...        0.0      0   \n",
       "\n",
       "     hasReplies  replies.commentText  vegan_count  \n",
       "542       False                  NaN           90  \n",
       "468       False                  NaN           82  \n",
       "661       False                  NaN           69  \n",
       "662       False                  NaN           69  \n",
       "736       False                  NaN           65  "
      ]
     },
     "execution_count": 85,
     "metadata": {},
     "output_type": "execute_result"
    }
   ],
   "source": [
    "sub.nlargest(5, 'vegan_count')"
   ]
  },
  {
   "cell_type": "code",
   "execution_count": 18,
   "metadata": {},
   "outputs": [
    {
     "data": {
      "text/plain": [
       "'4:56 i kind of agree with him because YOU are stepping into the MOUNTAIN LION’S territory. for me it’d be like it’s your fault that maybe you got injured. i think you should try and protect yourself, even if it means injuring a huge animal in comparison to yourself. but when are you going to beat a mountain lion or other huge animal without a serious weapon like a gun or knife. if you tried to protect yourself and maybe it didn’t work out as well as you wanted, and you ended up getting injured by the animal, yes the animal did injure you, but it would be your fault for not coming prepared when you knew(if you did, might want to do research before you go do something like that) that it was a mountain lion’s territory. the animal is just trying to protect itself just like you are. it’s just like you in your neighborhood and you see a very unusual and maybe dangerous or violent animal(or it might be how they are portrayed) then you might harm it if they get to close or something along those lines. people and animals just want to protect themselves,(&family)  and their territory. the animal probably just feels threatened just like you would. \\nwasn’t expecting on writing this much and it’s probably all over the place but oh well'"
      ]
     },
     "execution_count": 18,
     "metadata": {},
     "output_type": "execute_result"
    }
   ],
   "source": [
    "sub['commentText'][542]"
   ]
  },
  {
   "cell_type": "code",
   "execution_count": 19,
   "metadata": {},
   "outputs": [
    {
     "data": {
      "text/plain": [
       "'This comment has spoilers, just so you’re warned:\\n\\n\\n\\n\\n\\n\\n\\n\\nOne of the things I have to say was how some people’s answers in this video to non-judgmental questions was unnecessarily judgmental and even a bit closed-minded to the circumstances of others. Like, “I’m willing to spend the extra dollar to eat healthy...,” kinda sets the undertone that the people who believe it’s expensive are cheap. That’s probably not what they were saying, but should someone pay more to be healthy then would be my question to that person’s response to the original inquiry. “It’s not expensive at all to eat Vegan..,” wasn’t the question at all, the statement in which to agree or disagree was, “It costs more to eat healthier.” That statement that person made to explain their view of the statement to me made me feel like the person was closed-minded to other diets, healthy foods, or techniques that are out there other than being vegan. Not everyone can be vegan, and that’s a fact, so if she didn’t know the answer to that, I wish she had simply said that she can only look at it from her own perspective. From my perspective, I understood she was coming from her own place of awareness, but it can be views like she was not really answering the question but just trying to hard-sell the vegan diet.'"
      ]
     },
     "execution_count": 19,
     "metadata": {},
     "output_type": "execute_result"
    }
   ],
   "source": [
    "sub['commentText'][468]"
   ]
  },
  {
   "cell_type": "code",
   "execution_count": null,
   "metadata": {},
   "outputs": [],
   "source": []
  }
 ],
 "metadata": {
  "kernelspec": {
   "display_name": "Python 3",
   "language": "python",
   "name": "python3"
  },
  "language_info": {
   "codemirror_mode": {
    "name": "ipython",
    "version": 3
   },
   "file_extension": ".py",
   "mimetype": "text/x-python",
   "name": "python",
   "nbconvert_exporter": "python",
   "pygments_lexer": "ipython3",
   "version": "3.6.8"
  }
 },
 "nbformat": 4,
 "nbformat_minor": 2
}
