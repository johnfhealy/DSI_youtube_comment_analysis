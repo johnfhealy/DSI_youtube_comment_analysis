{
 "cells": [
  {
   "cell_type": "code",
   "execution_count": 149,
   "metadata": {},
   "outputs": [],
   "source": [
    "import pandas as pd\n",
    "import numpy as np\n",
    "from sklearn.linear_model import LogisticRegression\n",
    "from sklearn.feature_extraction.text import CountVectorizer, TfidfVectorizer\n",
    "from sklearn.neighbors import KNeighborsClassifier\n",
    "from sklearn.tree import DecisionTreeClassifier\n",
    "from sklearn.naive_bayes import MultinomialNB\n",
    "from sklearn.ensemble import RandomForestClassifier, BaggingClassifier, GradientBoostingClassifier, AdaBoostClassifier,ExtraTreesClassifier\n",
    "from sklearn import svm\n",
    "from sklearn.model_selection import train_test_split, GridSearchCV\n",
    "from sklearn.metrics import f1_score, recall_score, confusion_matrix\n",
    "from sklearn.pipeline import Pipeline, FeatureUnion\n",
    "from sklearn.base import BaseEstimator, TransformerMixin\n",
    "from nltk import word_tokenize\n",
    "from nltk.stem import WordNetLemmatizer\n",
    "from nltk.corpus import stopwords\n",
    "import copy\n",
    "from nltk.stem.wordnet import WordNetLemmatizer\n",
    "from nltk.sentiment import SentimentAnalyzer, SentimentIntensityAnalyzer\n",
    "from nltk.sentiment.vader import SentimentIntensityAnalyzer\n",
    "from textstat.textstat import textstat\n",
    "\n",
    "# Clustering packages\n",
    "from scipy.cluster.hierarchy import dendrogram, linkage, cophenet, fcluster\n",
    "from scipy.spatial.distance import pdist\n",
    "\n",
    "# Plotting Packages\n",
    "import matplotlib.pyplot as plt\n",
    "import matplotlib.patches as mpatches\n",
    "import seaborn as sns\n",
    "import pylab\n",
    "from mpl_toolkits.mplot3d import Axes3D\n",
    "plt.style.use('fivethirtyeight')\n",
    "%matplotlib inline\n",
    "from wordcloud import WordCloud\n",
    "\n"
   ]
  },
  {
   "cell_type": "code",
   "execution_count": 10,
   "metadata": {},
   "outputs": [],
   "source": [
    "df = pd.read_csv('full.csv')\n"
   ]
  },
  {
   "cell_type": "code",
   "execution_count": 8,
   "metadata": {},
   "outputs": [
    {
     "data": {
      "text/plain": [
       "(24634, 7)"
      ]
     },
     "execution_count": 8,
     "metadata": {},
     "output_type": "execute_result"
    }
   ],
   "source": [
    "df.shape"
   ]
  },
  {
   "cell_type": "code",
   "execution_count": 12,
   "metadata": {},
   "outputs": [
    {
     "data": {
      "text/html": [
       "<div>\n",
       "<style scoped>\n",
       "    .dataframe tbody tr th:only-of-type {\n",
       "        vertical-align: middle;\n",
       "    }\n",
       "\n",
       "    .dataframe tbody tr th {\n",
       "        vertical-align: top;\n",
       "    }\n",
       "\n",
       "    .dataframe thead th {\n",
       "        text-align: right;\n",
       "    }\n",
       "</style>\n",
       "<table border=\"1\" class=\"dataframe\">\n",
       "  <thead>\n",
       "    <tr style=\"text-align: right;\">\n",
       "      <th></th>\n",
       "      <th>user</th>\n",
       "      <th>timestamp</th>\n",
       "      <th>commentText</th>\n",
       "      <th>y_label</th>\n",
       "      <th>likes</th>\n",
       "      <th>hasReplies</th>\n",
       "      <th>replies.commentText</th>\n",
       "    </tr>\n",
       "  </thead>\n",
       "  <tbody>\n",
       "    <tr>\n",
       "      <th>24629</th>\n",
       "      <td>geminilicious</td>\n",
       "      <td>1525280205262</td>\n",
       "      <td>MIDDLE GROUND IS THE WAY TO GO\\n\\nEdit: middle...</td>\n",
       "      <td>NaN</td>\n",
       "      <td>217</td>\n",
       "      <td>True</td>\n",
       "      <td>NaN</td>\n",
       "    </tr>\n",
       "    <tr>\n",
       "      <th>24630</th>\n",
       "      <td>gremdi</td>\n",
       "      <td>1525280205264</td>\n",
       "      <td>2:06 ima take the shit out that life i love meat</td>\n",
       "      <td>NaN</td>\n",
       "      <td>1</td>\n",
       "      <td>False</td>\n",
       "      <td>NaN</td>\n",
       "    </tr>\n",
       "    <tr>\n",
       "      <th>24631</th>\n",
       "      <td>not you</td>\n",
       "      <td>1525280205266</td>\n",
       "      <td>THE GUY WITH ORANGE SCARF IN HIS HEAD IN THE 1...</td>\n",
       "      <td>NaN</td>\n",
       "      <td>0</td>\n",
       "      <td>False</td>\n",
       "      <td>NaN</td>\n",
       "    </tr>\n",
       "    <tr>\n",
       "      <th>24632</th>\n",
       "      <td>Allen Owobu</td>\n",
       "      <td>1525280205268</td>\n",
       "      <td>Vegans...need meat dont @ me</td>\n",
       "      <td>NaN</td>\n",
       "      <td>31</td>\n",
       "      <td>True</td>\n",
       "      <td>NaN</td>\n",
       "    </tr>\n",
       "    <tr>\n",
       "      <th>24633</th>\n",
       "      <td>gremdi</td>\n",
       "      <td>1525280205270</td>\n",
       "      <td>Vegans are delusional</td>\n",
       "      <td>NaN</td>\n",
       "      <td>1</td>\n",
       "      <td>False</td>\n",
       "      <td>NaN</td>\n",
       "    </tr>\n",
       "  </tbody>\n",
       "</table>\n",
       "</div>"
      ],
      "text/plain": [
       "                user      timestamp  \\\n",
       "24629  geminilicious  1525280205262   \n",
       "24630         gremdi  1525280205264   \n",
       "24631        not you  1525280205266   \n",
       "24632    Allen Owobu  1525280205268   \n",
       "24633         gremdi  1525280205270   \n",
       "\n",
       "                                             commentText y_label  likes  \\\n",
       "24629  MIDDLE GROUND IS THE WAY TO GO\\n\\nEdit: middle...     NaN    217   \n",
       "24630   2:06 ima take the shit out that life i love meat     NaN      1   \n",
       "24631  THE GUY WITH ORANGE SCARF IN HIS HEAD IN THE 1...     NaN      0   \n",
       "24632                       Vegans...need meat dont @ me     NaN     31   \n",
       "24633                              Vegans are delusional     NaN      1   \n",
       "\n",
       "       hasReplies  replies.commentText  \n",
       "24629        True                  NaN  \n",
       "24630       False                  NaN  \n",
       "24631       False                  NaN  \n",
       "24632        True                  NaN  \n",
       "24633       False                  NaN  "
      ]
     },
     "execution_count": 12,
     "metadata": {},
     "output_type": "execute_result"
    }
   ],
   "source": [
    "df.tail()"
   ]
  },
  {
   "cell_type": "code",
   "execution_count": 14,
   "metadata": {},
   "outputs": [
    {
     "name": "stdout",
     "output_type": "stream",
     "text": [
      "24634\n",
      "1598\n"
     ]
    }
   ],
   "source": [
    "print(df['commentText'].count())\n",
    "print(df['y_label'].count())"
   ]
  },
  {
   "cell_type": "code",
   "execution_count": 61,
   "metadata": {},
   "outputs": [
    {
     "data": {
      "text/plain": [
       "(41, 8)"
      ]
     },
     "execution_count": 61,
     "metadata": {},
     "output_type": "execute_result"
    }
   ],
   "source": [
    "# \"i am vegan\"\n",
    "df[df['commentText'].str.lower().str.contains('i am vegan')].shape\n"
   ]
  },
  {
   "cell_type": "code",
   "execution_count": 66,
   "metadata": {},
   "outputs": [
    {
     "data": {
      "text/plain": [
       "(33, 8)"
      ]
     },
     "execution_count": 66,
     "metadata": {},
     "output_type": "execute_result"
    }
   ],
   "source": [
    "df[df['commentText'].str.lower().str.contains('i was vegan')].shape"
   ]
  },
  {
   "cell_type": "code",
   "execution_count": 15,
   "metadata": {},
   "outputs": [
    {
     "data": {
      "text/plain": [
       "user                       2\n",
       "timestamp                  0\n",
       "commentText                0\n",
       "y_label                23036\n",
       "likes                      0\n",
       "hasReplies                 0\n",
       "replies.commentText    24634\n",
       "dtype: int64"
      ]
     },
     "execution_count": 15,
     "metadata": {},
     "output_type": "execute_result"
    }
   ],
   "source": [
    "df.isnull().sum()"
   ]
  },
  {
   "cell_type": "code",
   "execution_count": 33,
   "metadata": {},
   "outputs": [],
   "source": [
    "X = df[df['y_label'].notnull()]['commentText']\n",
    "y = df[df['y_label'].notnull()]['y_label']"
   ]
  },
  {
   "cell_type": "code",
   "execution_count": 41,
   "metadata": {},
   "outputs": [
    {
     "data": {
      "text/plain": [
       "0    0.059349\n",
       "1    0.005521\n",
       "Name: y_label, dtype: float64"
      ]
     },
     "execution_count": 41,
     "metadata": {},
     "output_type": "execute_result"
    }
   ],
   "source": [
    "# Baseline Accuracy\n",
    "y.value_counts()/df.shape[0]"
   ]
  },
  {
   "cell_type": "code",
   "execution_count": 162,
   "metadata": {},
   "outputs": [
    {
     "data": {
      "text/plain": [
       "24634"
      ]
     },
     "execution_count": 162,
     "metadata": {},
     "output_type": "execute_result"
    }
   ],
   "source": []
  },
  {
   "cell_type": "code",
   "execution_count": 34,
   "metadata": {},
   "outputs": [
    {
     "data": {
      "text/plain": [
       "array(['0', '1'], dtype=object)"
      ]
     },
     "execution_count": 34,
     "metadata": {},
     "output_type": "execute_result"
    }
   ],
   "source": [
    "# df[df['y_label']=='0:00']\n",
    "y.unique()"
   ]
  },
  {
   "cell_type": "code",
   "execution_count": 32,
   "metadata": {},
   "outputs": [],
   "source": [
    "df.loc[698,'y_label']='0'"
   ]
  },
  {
   "cell_type": "code",
   "execution_count": null,
   "metadata": {},
   "outputs": [],
   "source": [
    "# how to balance classes\n",
    "# random sampling with replacement of target class"
   ]
  },
  {
   "cell_type": "code",
   "execution_count": 35,
   "metadata": {},
   "outputs": [],
   "source": [
    "X_train, X_test, y_train, y_test = train_test_split(X, y, \n",
    "                                                    random_state=42, \n",
    "                                                    stratify=y)"
   ]
  },
  {
   "cell_type": "code",
   "execution_count": 37,
   "metadata": {},
   "outputs": [
    {
     "name": "stderr",
     "output_type": "stream",
     "text": [
      "/anaconda3/lib/python3.6/site-packages/sklearn/model_selection/_split.py:2053: FutureWarning: You should specify a value for 'cv' instead of relying on the default value. The default value will change from 3 to 5 in version 0.22.\n",
      "  warnings.warn(CV_WARNING, FutureWarning)\n",
      "/anaconda3/lib/python3.6/site-packages/sklearn/ensemble/forest.py:246: FutureWarning: The default value of n_estimators will change from 10 in version 0.20 to 100 in 0.22.\n",
      "  \"10 in version 0.20 to 100 in 0.22.\", FutureWarning)\n",
      "/anaconda3/lib/python3.6/site-packages/sklearn/ensemble/forest.py:246: FutureWarning: The default value of n_estimators will change from 10 in version 0.20 to 100 in 0.22.\n",
      "  \"10 in version 0.20 to 100 in 0.22.\", FutureWarning)\n"
     ]
    },
    {
     "name": "stdout",
     "output_type": "stream",
     "text": [
      "Grid Search Best Score: 0.9148580968280468\n",
      "Test Score: 0.915\n"
     ]
    },
    {
     "name": "stderr",
     "output_type": "stream",
     "text": [
      "/anaconda3/lib/python3.6/site-packages/sklearn/ensemble/forest.py:246: FutureWarning: The default value of n_estimators will change from 10 in version 0.20 to 100 in 0.22.\n",
      "  \"10 in version 0.20 to 100 in 0.22.\", FutureWarning)\n",
      "/anaconda3/lib/python3.6/site-packages/sklearn/ensemble/forest.py:246: FutureWarning: The default value of n_estimators will change from 10 in version 0.20 to 100 in 0.22.\n",
      "  \"10 in version 0.20 to 100 in 0.22.\", FutureWarning)\n"
     ]
    }
   ],
   "source": [
    "# Random Forest and TFIDF\n",
    "\n",
    "tf = TfidfVectorizer(stop_words='english', ngram_range=(1,2))\n",
    "Trees = RandomForestClassifier()\n",
    "\n",
    "pipe = Pipeline([\n",
    "    ('tfidf', tf),\n",
    "    ('trees', Trees)\n",
    "])\n",
    "\n",
    "gs = GridSearchCV(pipe, param_grid = {})\n",
    "\n",
    "gs.fit(X_train, y_train)\n",
    "\n",
    "print('Grid Search Best Score:', gs.best_score_)\n",
    "print('Test Score:', gs.score(X_test, y_test))\n",
    "\n"
   ]
  },
  {
   "cell_type": "code",
   "execution_count": 46,
   "metadata": {},
   "outputs": [],
   "source": [
    "best_rf = gs.best_estimator_\n",
    "# new_X = df[df['y_label'].isnull()]['commentText']\n",
    "preds = best_rf.predict(df['commentText'])\n",
    "\n"
   ]
  },
  {
   "cell_type": "code",
   "execution_count": 47,
   "metadata": {},
   "outputs": [],
   "source": [
    "df['preds']=preds"
   ]
  },
  {
   "cell_type": "code",
   "execution_count": 49,
   "metadata": {},
   "outputs": [
    {
     "data": {
      "text/html": [
       "<div>\n",
       "<style scoped>\n",
       "    .dataframe tbody tr th:only-of-type {\n",
       "        vertical-align: middle;\n",
       "    }\n",
       "\n",
       "    .dataframe tbody tr th {\n",
       "        vertical-align: top;\n",
       "    }\n",
       "\n",
       "    .dataframe thead th {\n",
       "        text-align: right;\n",
       "    }\n",
       "</style>\n",
       "<table border=\"1\" class=\"dataframe\">\n",
       "  <thead>\n",
       "    <tr style=\"text-align: right;\">\n",
       "      <th></th>\n",
       "      <th>user</th>\n",
       "      <th>timestamp</th>\n",
       "      <th>commentText</th>\n",
       "      <th>y_label</th>\n",
       "      <th>likes</th>\n",
       "      <th>hasReplies</th>\n",
       "      <th>replies.commentText</th>\n",
       "      <th>preds</th>\n",
       "    </tr>\n",
       "  </thead>\n",
       "  <tbody>\n",
       "    <tr>\n",
       "      <th>24629</th>\n",
       "      <td>geminilicious</td>\n",
       "      <td>1525280205262</td>\n",
       "      <td>MIDDLE GROUND IS THE WAY TO GO\\n\\nEdit: middle...</td>\n",
       "      <td>NaN</td>\n",
       "      <td>217</td>\n",
       "      <td>True</td>\n",
       "      <td>NaN</td>\n",
       "      <td>0</td>\n",
       "    </tr>\n",
       "    <tr>\n",
       "      <th>24630</th>\n",
       "      <td>gremdi</td>\n",
       "      <td>1525280205264</td>\n",
       "      <td>2:06 ima take the shit out that life i love meat</td>\n",
       "      <td>NaN</td>\n",
       "      <td>1</td>\n",
       "      <td>False</td>\n",
       "      <td>NaN</td>\n",
       "      <td>0</td>\n",
       "    </tr>\n",
       "    <tr>\n",
       "      <th>24631</th>\n",
       "      <td>not you</td>\n",
       "      <td>1525280205266</td>\n",
       "      <td>THE GUY WITH ORANGE SCARF IN HIS HEAD IN THE 1...</td>\n",
       "      <td>NaN</td>\n",
       "      <td>0</td>\n",
       "      <td>False</td>\n",
       "      <td>NaN</td>\n",
       "      <td>0</td>\n",
       "    </tr>\n",
       "    <tr>\n",
       "      <th>24632</th>\n",
       "      <td>Allen Owobu</td>\n",
       "      <td>1525280205268</td>\n",
       "      <td>Vegans...need meat dont @ me</td>\n",
       "      <td>NaN</td>\n",
       "      <td>31</td>\n",
       "      <td>True</td>\n",
       "      <td>NaN</td>\n",
       "      <td>0</td>\n",
       "    </tr>\n",
       "    <tr>\n",
       "      <th>24633</th>\n",
       "      <td>gremdi</td>\n",
       "      <td>1525280205270</td>\n",
       "      <td>Vegans are delusional</td>\n",
       "      <td>NaN</td>\n",
       "      <td>1</td>\n",
       "      <td>False</td>\n",
       "      <td>NaN</td>\n",
       "      <td>0</td>\n",
       "    </tr>\n",
       "  </tbody>\n",
       "</table>\n",
       "</div>"
      ],
      "text/plain": [
       "                user      timestamp  \\\n",
       "24629  geminilicious  1525280205262   \n",
       "24630         gremdi  1525280205264   \n",
       "24631        not you  1525280205266   \n",
       "24632    Allen Owobu  1525280205268   \n",
       "24633         gremdi  1525280205270   \n",
       "\n",
       "                                             commentText y_label  likes  \\\n",
       "24629  MIDDLE GROUND IS THE WAY TO GO\\n\\nEdit: middle...     NaN    217   \n",
       "24630   2:06 ima take the shit out that life i love meat     NaN      1   \n",
       "24631  THE GUY WITH ORANGE SCARF IN HIS HEAD IN THE 1...     NaN      0   \n",
       "24632                       Vegans...need meat dont @ me     NaN     31   \n",
       "24633                              Vegans are delusional     NaN      1   \n",
       "\n",
       "       hasReplies  replies.commentText preds  \n",
       "24629        True                  NaN     0  \n",
       "24630       False                  NaN     0  \n",
       "24631       False                  NaN     0  \n",
       "24632        True                  NaN     0  \n",
       "24633       False                  NaN     0  "
      ]
     },
     "execution_count": 49,
     "metadata": {},
     "output_type": "execute_result"
    }
   ],
   "source": [
    "df.tail()"
   ]
  },
  {
   "cell_type": "code",
   "execution_count": 54,
   "metadata": {},
   "outputs": [
    {
     "data": {
      "text/plain": [
       "0    23014\n",
       "1       22\n",
       "Name: preds, dtype: int64"
      ]
     },
     "execution_count": 54,
     "metadata": {},
     "output_type": "execute_result"
    }
   ],
   "source": [
    "df[df['y_label'].isnull()].preds.value_counts()"
   ]
  },
  {
   "cell_type": "code",
   "execution_count": 67,
   "metadata": {},
   "outputs": [
    {
     "data": {
      "text/plain": [
       "0    24528\n",
       "1      106\n",
       "Name: preds, dtype: int64"
      ]
     },
     "execution_count": 67,
     "metadata": {},
     "output_type": "execute_result"
    }
   ],
   "source": [
    "df.preds.value_counts()"
   ]
  },
  {
   "cell_type": "code",
   "execution_count": 73,
   "metadata": {},
   "outputs": [],
   "source": [
    "sid = SentimentIntensityAnalyzer()\n",
    "df['scores'] = df['commentText'].apply(lambda x: sid.polarity_scores(x))"
   ]
  },
  {
   "cell_type": "code",
   "execution_count": 101,
   "metadata": {},
   "outputs": [],
   "source": [
    "\n",
    "df['word_count'] = df['commentText'].str.split().str.len()"
   ]
  },
  {
   "cell_type": "code",
   "execution_count": 74,
   "metadata": {
    "scrolled": true
   },
   "outputs": [
    {
     "data": {
      "text/html": [
       "<div>\n",
       "<style scoped>\n",
       "    .dataframe tbody tr th:only-of-type {\n",
       "        vertical-align: middle;\n",
       "    }\n",
       "\n",
       "    .dataframe tbody tr th {\n",
       "        vertical-align: top;\n",
       "    }\n",
       "\n",
       "    .dataframe thead th {\n",
       "        text-align: right;\n",
       "    }\n",
       "</style>\n",
       "<table border=\"1\" class=\"dataframe\">\n",
       "  <thead>\n",
       "    <tr style=\"text-align: right;\">\n",
       "      <th></th>\n",
       "      <th>user</th>\n",
       "      <th>timestamp</th>\n",
       "      <th>commentText</th>\n",
       "      <th>y_label</th>\n",
       "      <th>likes</th>\n",
       "      <th>hasReplies</th>\n",
       "      <th>replies.commentText</th>\n",
       "      <th>preds</th>\n",
       "      <th>scores</th>\n",
       "    </tr>\n",
       "  </thead>\n",
       "  <tbody>\n",
       "    <tr>\n",
       "      <th>0</th>\n",
       "      <td>Yasmin Sallam</td>\n",
       "      <td>1556813178506</td>\n",
       "      <td>Ok so I’m muslim, so we only eat halal foods,w...</td>\n",
       "      <td>0</td>\n",
       "      <td>0</td>\n",
       "      <td>False</td>\n",
       "      <td>NaN</td>\n",
       "      <td>0</td>\n",
       "      <td>{'neg': 0.175, 'neu': 0.593, 'pos': 0.232, 'co...</td>\n",
       "    </tr>\n",
       "    <tr>\n",
       "      <th>1</th>\n",
       "      <td>Tara Z</td>\n",
       "      <td>1556812818508</td>\n",
       "      <td>As a vegan, I felt very uncomfortable with wat...</td>\n",
       "      <td>1</td>\n",
       "      <td>1</td>\n",
       "      <td>False</td>\n",
       "      <td>NaN</td>\n",
       "      <td>1</td>\n",
       "      <td>{'neg': 0.135, 'neu': 0.598, 'pos': 0.267, 'co...</td>\n",
       "    </tr>\n",
       "    <tr>\n",
       "      <th>2</th>\n",
       "      <td>QueenEm</td>\n",
       "      <td>1556807658510</td>\n",
       "      <td>In all honesty, vegan eating is actually more ...</td>\n",
       "      <td>0</td>\n",
       "      <td>0</td>\n",
       "      <td>False</td>\n",
       "      <td>NaN</td>\n",
       "      <td>0</td>\n",
       "      <td>{'neg': 0.0, 'neu': 0.834, 'pos': 0.166, 'comp...</td>\n",
       "    </tr>\n",
       "    <tr>\n",
       "      <th>3</th>\n",
       "      <td>Jenda Mh</td>\n",
       "      <td>1556804058512</td>\n",
       "      <td>Enjoying my steak while watching this, remembe...</td>\n",
       "      <td>0</td>\n",
       "      <td>0</td>\n",
       "      <td>False</td>\n",
       "      <td>NaN</td>\n",
       "      <td>0</td>\n",
       "      <td>{'neg': 0.0, 'neu': 0.621, 'pos': 0.379, 'comp...</td>\n",
       "    </tr>\n",
       "    <tr>\n",
       "      <th>4</th>\n",
       "      <td>Cavalio Thorson</td>\n",
       "      <td>1556800458514</td>\n",
       "      <td>That girl is the type to try and make me feel ...</td>\n",
       "      <td>0</td>\n",
       "      <td>2</td>\n",
       "      <td>False</td>\n",
       "      <td>NaN</td>\n",
       "      <td>0</td>\n",
       "      <td>{'neg': 0.132, 'neu': 0.868, 'pos': 0.0, 'comp...</td>\n",
       "    </tr>\n",
       "  </tbody>\n",
       "</table>\n",
       "</div>"
      ],
      "text/plain": [
       "              user      timestamp  \\\n",
       "0    Yasmin Sallam  1556813178506   \n",
       "1           Tara Z  1556812818508   \n",
       "2          QueenEm  1556807658510   \n",
       "3         Jenda Mh  1556804058512   \n",
       "4  Cavalio Thorson  1556800458514   \n",
       "\n",
       "                                         commentText y_label  likes  \\\n",
       "0  Ok so I’m muslim, so we only eat halal foods,w...       0      0   \n",
       "1  As a vegan, I felt very uncomfortable with wat...       1      1   \n",
       "2  In all honesty, vegan eating is actually more ...       0      0   \n",
       "3  Enjoying my steak while watching this, remembe...       0      0   \n",
       "4  That girl is the type to try and make me feel ...       0      2   \n",
       "\n",
       "   hasReplies  replies.commentText preds  \\\n",
       "0       False                  NaN     0   \n",
       "1       False                  NaN     1   \n",
       "2       False                  NaN     0   \n",
       "3       False                  NaN     0   \n",
       "4       False                  NaN     0   \n",
       "\n",
       "                                              scores  \n",
       "0  {'neg': 0.175, 'neu': 0.593, 'pos': 0.232, 'co...  \n",
       "1  {'neg': 0.135, 'neu': 0.598, 'pos': 0.267, 'co...  \n",
       "2  {'neg': 0.0, 'neu': 0.834, 'pos': 0.166, 'comp...  \n",
       "3  {'neg': 0.0, 'neu': 0.621, 'pos': 0.379, 'comp...  \n",
       "4  {'neg': 0.132, 'neu': 0.868, 'pos': 0.0, 'comp...  "
      ]
     },
     "execution_count": 74,
     "metadata": {},
     "output_type": "execute_result"
    }
   ],
   "source": [
    "df.head()"
   ]
  },
  {
   "cell_type": "code",
   "execution_count": 75,
   "metadata": {},
   "outputs": [],
   "source": [
    "\n",
    "df = df.join(pd.DataFrame(df['scores'].to_dict()).T)"
   ]
  },
  {
   "cell_type": "code",
   "execution_count": 76,
   "metadata": {},
   "outputs": [],
   "source": [
    "\n",
    "df = df.drop('scores', axis = 1)"
   ]
  },
  {
   "cell_type": "code",
   "execution_count": 77,
   "metadata": {},
   "outputs": [],
   "source": [
    "df['diff'] = df['pos'] - df['neg']"
   ]
  },
  {
   "cell_type": "code",
   "execution_count": 79,
   "metadata": {},
   "outputs": [],
   "source": [
    "df['reading_ease'] = df['commentText'].apply(lambda x: textstat.flesch_reading_ease(x))"
   ]
  },
  {
   "cell_type": "code",
   "execution_count": 80,
   "metadata": {},
   "outputs": [],
   "source": [
    "df['grade_level'] = df['commentText'].apply(lambda x: textstat.flesch_kincaid_grade(x))"
   ]
  },
  {
   "cell_type": "code",
   "execution_count": 85,
   "metadata": {},
   "outputs": [],
   "source": [
    "# only run once\n",
    "# df.to_csv('df_word_features_0516.csv', index = False, encoding = 'utf-8')\n"
   ]
  },
  {
   "cell_type": "code",
   "execution_count": 89,
   "metadata": {},
   "outputs": [
    {
     "data": {
      "text/html": [
       "<div>\n",
       "<style scoped>\n",
       "    .dataframe tbody tr th:only-of-type {\n",
       "        vertical-align: middle;\n",
       "    }\n",
       "\n",
       "    .dataframe tbody tr th {\n",
       "        vertical-align: top;\n",
       "    }\n",
       "\n",
       "    .dataframe thead th {\n",
       "        text-align: right;\n",
       "    }\n",
       "</style>\n",
       "<table border=\"1\" class=\"dataframe\">\n",
       "  <thead>\n",
       "    <tr style=\"text-align: right;\">\n",
       "      <th></th>\n",
       "      <th>user</th>\n",
       "      <th>timestamp</th>\n",
       "      <th>commentText</th>\n",
       "      <th>y_label</th>\n",
       "      <th>likes</th>\n",
       "      <th>hasReplies</th>\n",
       "      <th>replies.commentText</th>\n",
       "      <th>preds</th>\n",
       "      <th>compound</th>\n",
       "      <th>neg</th>\n",
       "      <th>neu</th>\n",
       "      <th>pos</th>\n",
       "      <th>diff</th>\n",
       "      <th>reading_ease</th>\n",
       "      <th>grade_level</th>\n",
       "    </tr>\n",
       "  </thead>\n",
       "  <tbody>\n",
       "    <tr>\n",
       "      <th>0</th>\n",
       "      <td>Yasmin Sallam</td>\n",
       "      <td>1556813178506</td>\n",
       "      <td>Ok so I’m muslim, so we only eat halal foods,w...</td>\n",
       "      <td>0</td>\n",
       "      <td>0</td>\n",
       "      <td>False</td>\n",
       "      <td>NaN</td>\n",
       "      <td>0</td>\n",
       "      <td>0.2933</td>\n",
       "      <td>0.175</td>\n",
       "      <td>0.593</td>\n",
       "      <td>0.232</td>\n",
       "      <td>0.057</td>\n",
       "      <td>45.43</td>\n",
       "      <td>21.6</td>\n",
       "    </tr>\n",
       "    <tr>\n",
       "      <th>1</th>\n",
       "      <td>Tara Z</td>\n",
       "      <td>1556812818508</td>\n",
       "      <td>As a vegan, I felt very uncomfortable with wat...</td>\n",
       "      <td>1</td>\n",
       "      <td>1</td>\n",
       "      <td>False</td>\n",
       "      <td>NaN</td>\n",
       "      <td>1</td>\n",
       "      <td>0.8346</td>\n",
       "      <td>0.135</td>\n",
       "      <td>0.598</td>\n",
       "      <td>0.267</td>\n",
       "      <td>0.132</td>\n",
       "      <td>69.18</td>\n",
       "      <td>6.2</td>\n",
       "    </tr>\n",
       "    <tr>\n",
       "      <th>2</th>\n",
       "      <td>QueenEm</td>\n",
       "      <td>1556807658510</td>\n",
       "      <td>In all honesty, vegan eating is actually more ...</td>\n",
       "      <td>0</td>\n",
       "      <td>0</td>\n",
       "      <td>False</td>\n",
       "      <td>NaN</td>\n",
       "      <td>0</td>\n",
       "      <td>0.4569</td>\n",
       "      <td>0.000</td>\n",
       "      <td>0.834</td>\n",
       "      <td>0.166</td>\n",
       "      <td>0.166</td>\n",
       "      <td>68.26</td>\n",
       "      <td>6.6</td>\n",
       "    </tr>\n",
       "    <tr>\n",
       "      <th>3</th>\n",
       "      <td>Jenda Mh</td>\n",
       "      <td>1556804058512</td>\n",
       "      <td>Enjoying my steak while watching this, remembe...</td>\n",
       "      <td>0</td>\n",
       "      <td>0</td>\n",
       "      <td>False</td>\n",
       "      <td>NaN</td>\n",
       "      <td>0</td>\n",
       "      <td>0.9042</td>\n",
       "      <td>0.000</td>\n",
       "      <td>0.621</td>\n",
       "      <td>0.379</td>\n",
       "      <td>0.379</td>\n",
       "      <td>63.02</td>\n",
       "      <td>10.7</td>\n",
       "    </tr>\n",
       "    <tr>\n",
       "      <th>4</th>\n",
       "      <td>Cavalio Thorson</td>\n",
       "      <td>1556800458514</td>\n",
       "      <td>That girl is the type to try and make me feel ...</td>\n",
       "      <td>0</td>\n",
       "      <td>2</td>\n",
       "      <td>False</td>\n",
       "      <td>NaN</td>\n",
       "      <td>0</td>\n",
       "      <td>-0.5423</td>\n",
       "      <td>0.132</td>\n",
       "      <td>0.868</td>\n",
       "      <td>0.000</td>\n",
       "      <td>-0.132</td>\n",
       "      <td>70.47</td>\n",
       "      <td>9.9</td>\n",
       "    </tr>\n",
       "  </tbody>\n",
       "</table>\n",
       "</div>"
      ],
      "text/plain": [
       "              user      timestamp  \\\n",
       "0    Yasmin Sallam  1556813178506   \n",
       "1           Tara Z  1556812818508   \n",
       "2          QueenEm  1556807658510   \n",
       "3         Jenda Mh  1556804058512   \n",
       "4  Cavalio Thorson  1556800458514   \n",
       "\n",
       "                                         commentText y_label  likes  \\\n",
       "0  Ok so I’m muslim, so we only eat halal foods,w...       0      0   \n",
       "1  As a vegan, I felt very uncomfortable with wat...       1      1   \n",
       "2  In all honesty, vegan eating is actually more ...       0      0   \n",
       "3  Enjoying my steak while watching this, remembe...       0      0   \n",
       "4  That girl is the type to try and make me feel ...       0      2   \n",
       "\n",
       "   hasReplies  replies.commentText preds  compound    neg    neu    pos  \\\n",
       "0       False                  NaN     0    0.2933  0.175  0.593  0.232   \n",
       "1       False                  NaN     1    0.8346  0.135  0.598  0.267   \n",
       "2       False                  NaN     0    0.4569  0.000  0.834  0.166   \n",
       "3       False                  NaN     0    0.9042  0.000  0.621  0.379   \n",
       "4       False                  NaN     0   -0.5423  0.132  0.868  0.000   \n",
       "\n",
       "    diff  reading_ease  grade_level  \n",
       "0  0.057         45.43         21.6  \n",
       "1  0.132         69.18          6.2  \n",
       "2  0.166         68.26          6.6  \n",
       "3  0.379         63.02         10.7  \n",
       "4 -0.132         70.47          9.9  "
      ]
     },
     "execution_count": 89,
     "metadata": {},
     "output_type": "execute_result"
    }
   ],
   "source": [
    "df2 = pd.read_csv('df_word_features_0516.csv')\n",
    "df.head()"
   ]
  },
  {
   "cell_type": "code",
   "execution_count": 90,
   "metadata": {},
   "outputs": [],
   "source": [
    "df['target'] = [1 if x > 0 else 0 for x in df['diff']]"
   ]
  },
  {
   "cell_type": "code",
   "execution_count": 91,
   "metadata": {},
   "outputs": [
    {
     "data": {
      "text/plain": [
       "(24634, 16)"
      ]
     },
     "execution_count": 91,
     "metadata": {},
     "output_type": "execute_result"
    }
   ],
   "source": [
    "df.shape"
   ]
  },
  {
   "cell_type": "code",
   "execution_count": 92,
   "metadata": {},
   "outputs": [
    {
     "data": {
      "text/plain": [
       "CountVectorizer(analyzer='word', binary=False, decode_error='strict',\n",
       "        dtype=<class 'numpy.int64'>, encoding='utf-8', input='content',\n",
       "        lowercase=True, max_df=1.0, max_features=None, min_df=20,\n",
       "        ngram_range=(1, 1), preprocessor=None, stop_words='english',\n",
       "        strip_accents=None, token_pattern='(\\\\b[a-zA-Z]+\\\\b)',\n",
       "        tokenizer=None, vocabulary=None)"
      ]
     },
     "execution_count": 92,
     "metadata": {},
     "output_type": "execute_result"
    }
   ],
   "source": [
    "\n",
    "cvec = CountVectorizer(stop_words = 'english', min_df = 20, token_pattern = u'(\\\\b[a-zA-Z]+\\\\b)')\n",
    "cvec.fit(df['commentText'])\n"
   ]
  },
  {
   "cell_type": "code",
   "execution_count": 147,
   "metadata": {},
   "outputs": [
    {
     "data": {
      "text/html": [
       "<div>\n",
       "<style scoped>\n",
       "    .dataframe tbody tr th:only-of-type {\n",
       "        vertical-align: middle;\n",
       "    }\n",
       "\n",
       "    .dataframe tbody tr th {\n",
       "        vertical-align: top;\n",
       "    }\n",
       "\n",
       "    .dataframe thead th {\n",
       "        text-align: right;\n",
       "    }\n",
       "</style>\n",
       "<table border=\"1\" class=\"dataframe\">\n",
       "  <thead>\n",
       "    <tr style=\"text-align: right;\">\n",
       "      <th></th>\n",
       "      <th>ability</th>\n",
       "      <th>able</th>\n",
       "      <th>abortion</th>\n",
       "      <th>absolute</th>\n",
       "      <th>absolutely</th>\n",
       "      <th>abuse</th>\n",
       "      <th>accept</th>\n",
       "      <th>access</th>\n",
       "      <th>accessible</th>\n",
       "      <th>according</th>\n",
       "      <th>...</th>\n",
       "      <th>yea</th>\n",
       "      <th>yeah</th>\n",
       "      <th>year</th>\n",
       "      <th>years</th>\n",
       "      <th>yelling</th>\n",
       "      <th>yes</th>\n",
       "      <th>yo</th>\n",
       "      <th>young</th>\n",
       "      <th>youre</th>\n",
       "      <th>youtube</th>\n",
       "    </tr>\n",
       "  </thead>\n",
       "  <tbody>\n",
       "    <tr>\n",
       "      <th>0</th>\n",
       "      <td>0</td>\n",
       "      <td>0</td>\n",
       "      <td>0</td>\n",
       "      <td>0</td>\n",
       "      <td>0</td>\n",
       "      <td>0</td>\n",
       "      <td>0</td>\n",
       "      <td>0</td>\n",
       "      <td>0</td>\n",
       "      <td>0</td>\n",
       "      <td>...</td>\n",
       "      <td>0</td>\n",
       "      <td>0</td>\n",
       "      <td>0</td>\n",
       "      <td>0</td>\n",
       "      <td>0</td>\n",
       "      <td>0</td>\n",
       "      <td>0</td>\n",
       "      <td>0</td>\n",
       "      <td>0</td>\n",
       "      <td>0</td>\n",
       "    </tr>\n",
       "    <tr>\n",
       "      <th>1</th>\n",
       "      <td>0</td>\n",
       "      <td>0</td>\n",
       "      <td>0</td>\n",
       "      <td>0</td>\n",
       "      <td>0</td>\n",
       "      <td>0</td>\n",
       "      <td>0</td>\n",
       "      <td>0</td>\n",
       "      <td>0</td>\n",
       "      <td>0</td>\n",
       "      <td>...</td>\n",
       "      <td>0</td>\n",
       "      <td>0</td>\n",
       "      <td>0</td>\n",
       "      <td>0</td>\n",
       "      <td>0</td>\n",
       "      <td>1</td>\n",
       "      <td>0</td>\n",
       "      <td>0</td>\n",
       "      <td>0</td>\n",
       "      <td>0</td>\n",
       "    </tr>\n",
       "    <tr>\n",
       "      <th>2</th>\n",
       "      <td>0</td>\n",
       "      <td>0</td>\n",
       "      <td>0</td>\n",
       "      <td>0</td>\n",
       "      <td>0</td>\n",
       "      <td>0</td>\n",
       "      <td>0</td>\n",
       "      <td>0</td>\n",
       "      <td>0</td>\n",
       "      <td>0</td>\n",
       "      <td>...</td>\n",
       "      <td>0</td>\n",
       "      <td>0</td>\n",
       "      <td>0</td>\n",
       "      <td>0</td>\n",
       "      <td>0</td>\n",
       "      <td>0</td>\n",
       "      <td>0</td>\n",
       "      <td>0</td>\n",
       "      <td>0</td>\n",
       "      <td>0</td>\n",
       "    </tr>\n",
       "    <tr>\n",
       "      <th>3</th>\n",
       "      <td>0</td>\n",
       "      <td>0</td>\n",
       "      <td>0</td>\n",
       "      <td>0</td>\n",
       "      <td>0</td>\n",
       "      <td>0</td>\n",
       "      <td>0</td>\n",
       "      <td>0</td>\n",
       "      <td>0</td>\n",
       "      <td>0</td>\n",
       "      <td>...</td>\n",
       "      <td>0</td>\n",
       "      <td>0</td>\n",
       "      <td>0</td>\n",
       "      <td>0</td>\n",
       "      <td>0</td>\n",
       "      <td>0</td>\n",
       "      <td>0</td>\n",
       "      <td>0</td>\n",
       "      <td>0</td>\n",
       "      <td>0</td>\n",
       "    </tr>\n",
       "    <tr>\n",
       "      <th>4</th>\n",
       "      <td>0</td>\n",
       "      <td>0</td>\n",
       "      <td>0</td>\n",
       "      <td>0</td>\n",
       "      <td>0</td>\n",
       "      <td>0</td>\n",
       "      <td>0</td>\n",
       "      <td>0</td>\n",
       "      <td>0</td>\n",
       "      <td>0</td>\n",
       "      <td>...</td>\n",
       "      <td>0</td>\n",
       "      <td>0</td>\n",
       "      <td>0</td>\n",
       "      <td>0</td>\n",
       "      <td>0</td>\n",
       "      <td>0</td>\n",
       "      <td>0</td>\n",
       "      <td>0</td>\n",
       "      <td>0</td>\n",
       "      <td>0</td>\n",
       "    </tr>\n",
       "  </tbody>\n",
       "</table>\n",
       "<p>5 rows × 1663 columns</p>\n",
       "</div>"
      ],
      "text/plain": [
       "   ability  able  abortion  absolute  absolutely  abuse  accept  access  \\\n",
       "0        0     0         0         0           0      0       0       0   \n",
       "1        0     0         0         0           0      0       0       0   \n",
       "2        0     0         0         0           0      0       0       0   \n",
       "3        0     0         0         0           0      0       0       0   \n",
       "4        0     0         0         0           0      0       0       0   \n",
       "\n",
       "   accessible  according  ...  yea  yeah  year  years  yelling  yes  yo  \\\n",
       "0           0          0  ...    0     0     0      0        0    0   0   \n",
       "1           0          0  ...    0     0     0      0        0    1   0   \n",
       "2           0          0  ...    0     0     0      0        0    0   0   \n",
       "3           0          0  ...    0     0     0      0        0    0   0   \n",
       "4           0          0  ...    0     0     0      0        0    0   0   \n",
       "\n",
       "   young  youre  youtube  \n",
       "0      0      0        0  \n",
       "1      0      0        0  \n",
       "2      0      0        0  \n",
       "3      0      0        0  \n",
       "4      0      0        0  \n",
       "\n",
       "[5 rows x 1663 columns]"
      ]
     },
     "execution_count": 147,
     "metadata": {},
     "output_type": "execute_result"
    }
   ],
   "source": [
    "vectored = pd.DataFrame(cvec.transform(df['commentText']).todense(), columns = cvec.get_feature_names())\n",
    "vectored.transpose().sort_values(0, ascending = False).head(15).transpose()\n",
    "\n",
    "vectored.head()\n"
   ]
  },
  {
   "cell_type": "code",
   "execution_count": 94,
   "metadata": {},
   "outputs": [
    {
     "data": {
      "text/plain": [
       "(24634, 1663)"
      ]
     },
     "execution_count": 94,
     "metadata": {},
     "output_type": "execute_result"
    }
   ],
   "source": [
    "vectored.shape"
   ]
  },
  {
   "cell_type": "code",
   "execution_count": 95,
   "metadata": {},
   "outputs": [],
   "source": [
    "# RUN ONCE ONLY!\n",
    "# vectored.to_csv('vectored_0516.csv', index = False, encoding = 'utf-8')\n"
   ]
  },
  {
   "cell_type": "code",
   "execution_count": 96,
   "metadata": {},
   "outputs": [],
   "source": [
    "vectored = pd.read_csv('vectored_0516.csv')"
   ]
  },
  {
   "cell_type": "code",
   "execution_count": 97,
   "metadata": {},
   "outputs": [
    {
     "data": {
      "text/plain": [
       "(24634, 1663)"
      ]
     },
     "execution_count": 97,
     "metadata": {},
     "output_type": "execute_result"
    }
   ],
   "source": [
    "vectored.shape"
   ]
  },
  {
   "cell_type": "code",
   "execution_count": 143,
   "metadata": {},
   "outputs": [
    {
     "data": {
      "image/png": "[encoded data removed]",
      "text/plain": [
       "<Figure size 1152x576 with 1 Axes>"
      ]
     },
     "metadata": {
      "needs_background": "light"
     },
     "output_type": "display_data"
    }
   ],
   "source": [
    "\n",
    "plt.figure(figsize = (16, 8))\n",
    "df.loc[df['y_label'] == '0', 'word_count'].hist(color = 'red', alpha = .5, label = 'Meat')\n",
    "df.loc[df['y_label'] == '1', 'word_count'].hist(color = 'green', alpha = .5, label = 'Veg')\n",
    "\n",
    "plt.title('Distribution of Word Counts per Comment by Meat Eater or Veg', fontsize = 20, y = 1.01)\n",
    "plt.xlabel('Word Count')\n",
    "# plt.xlim([df['word_count'].min(), df['word_count'].max()])\n",
    "plt.ylabel('Frequency')\n",
    "plt.legend(loc = 'best',fontsize='xx-large');"
   ]
  },
  {
   "cell_type": "code",
   "execution_count": 113,
   "metadata": {
    "scrolled": true
   },
   "outputs": [
    {
     "data": {
      "image/png": "[encoded data removed]",
      "text/plain": [
       "<Figure size 1152x576 with 1 Axes>"
      ]
     },
     "metadata": {
      "needs_background": "light"
     },
     "output_type": "display_data"
    }
   ],
   "source": [
    "\n",
    "plt.figure(figsize = (16, 8))\n",
    "df['pos'].hist(color = 'red', alpha = .5, label = 'Positive')\n",
    "df['neu'].hist(color = 'yellow', alpha = .5, label = 'Neutral')\n",
    "df['neg'].hist(color = 'blue', alpha = .5, label = 'Negative')\n",
    "df['compound'].hist(color = 'green', alpha = .5, label = 'Compound')\n",
    "plt.title('Distribution of Polarity Scores', fontsize = 20, y = 1.01)\n",
    "plt.xlabel('Score')\n",
    "plt.ylabel('Frequency')\n",
    "plt.legend(loc = 'best', fontsize='xx-large');"
   ]
  },
  {
   "cell_type": "code",
   "execution_count": 129,
   "metadata": {},
   "outputs": [
    {
     "data": {
      "image/png": "[encoded data removed]",
      "text/plain": [
       "<Figure size 1152x576 with 1 Axes>"
      ]
     },
     "metadata": {
      "needs_background": "light"
     },
     "output_type": "display_data"
    }
   ],
   "source": [
    "plt.figure(figsize = (16, 8))\n",
    "df['diff'].hist(color = 'blue', alpha = .5, label = 'Positive/Negative Difference')\n",
    "df['neu'].hist(color = 'darkorange', alpha = .5, label = 'Neutral')\n",
    "plt.title('Distribution of Polarity Scores', fontsize = 20, y = 1.01)\n",
    "plt.xlabel('Score')\n",
    "plt.ylabel('Frequency')\n",
    "plt.legend(loc = 'best', fontsize='xx-large');"
   ]
  },
  {
   "cell_type": "code",
   "execution_count": 144,
   "metadata": {
    "scrolled": true
   },
   "outputs": [
    {
     "data": {
      "text/plain": [
       "<matplotlib.legend.Legend at 0x13810aac8>"
      ]
     },
     "execution_count": 144,
     "metadata": {},
     "output_type": "execute_result"
    },
    {
     "data": {
      "image/png": "[encoded data removed]",
      "text/plain": [
       "<Figure size 1152x576 with 1 Axes>"
      ]
     },
     "metadata": {
      "needs_background": "light"
     },
     "output_type": "display_data"
    }
   ],
   "source": [
    "plt.figure(figsize = (16, 8))\n",
    "df.loc[df['y_label'] == '0', 'reading_ease'].hist(color = 'red', alpha = .5, label = 'Meat Eater')\n",
    "plt.title('Distribution of Flesch Reading Ease Score by Dietary Lifestyle Affiliation', fontsize = 20, y = 1.01)\n",
    "plt.xlabel('Flesch Reading Ease Score')\n",
    "# plt.xlim([df['reading_ease'].min(), df['reading_ease'].max()])\n",
    "plt.ylabel('Frequency')\n",
    "plt.legend(loc = 'best',fontsize='xx-large')\n"
   ]
  },
  {
   "cell_type": "code",
   "execution_count": 145,
   "metadata": {},
   "outputs": [
    {
     "data": {
      "text/plain": [
       "<matplotlib.legend.Legend at 0x1383884e0>"
      ]
     },
     "execution_count": 145,
     "metadata": {},
     "output_type": "execute_result"
    },
    {
     "data": {
      "image/png": "[encoded data removed]",
      "text/plain": [
       "<Figure size 1152x576 with 1 Axes>"
      ]
     },
     "metadata": {
      "needs_background": "light"
     },
     "output_type": "display_data"
    }
   ],
   "source": [
    "plt.figure(figsize = (16, 8))\n",
    "df.loc[df['y_label'] == '1', 'reading_ease'].hist(color = 'green', alpha = .5, label = 'Veg Eater')\n",
    "plt.title('Distribution of Flesch Reading Ease Score by Dietary Lifestyle Affiliation', fontsize = 20, y = 1.01)\n",
    "plt.xlabel('Flesch Reading Ease Score')\n",
    "# plt.xlim([df['reading_ease'].min(), df['reading_ease'].max()])\n",
    "plt.ylabel('Frequency')\n",
    "plt.legend(loc = 'best',fontsize='xx-large')"
   ]
  },
  {
   "cell_type": "code",
   "execution_count": 146,
   "metadata": {},
   "outputs": [
    {
     "data": {
      "image/png": "[encoded data removed]",
      "text/plain": [
       "<Figure size 1152x576 with 1 Axes>"
      ]
     },
     "metadata": {
      "needs_background": "light"
     },
     "output_type": "display_data"
    }
   ],
   "source": [
    "\n",
    "plt.figure(figsize = (16, 8))\n",
    "df.loc[df['y_label'] == '1', 'grade_level'].hist(color = 'green', alpha = .5, label = 'Veg Eater')\n",
    "df.loc[df['y_label'] == '0', 'grade_level'].hist(color = 'red', alpha = .5, label = 'Meat Eater')\n",
    "plt.title('Distribution of Flesch-Kincaid Grade Level by Dietary L.S. Affiliation', fontsize = 20, y = 1.01)\n",
    "plt.xlabel('Flesch-Kincaid Grade Level')\n",
    "# plt.xlim([df['grade_level'].min(), df['grade_level'].max()])\n",
    "plt.ylabel('Frequency')\n",
    "plt.legend(loc = 'best', fontsize='xx-large');"
   ]
  },
  {
   "cell_type": "code",
   "execution_count": 125,
   "metadata": {},
   "outputs": [],
   "source": [
    "# colors = {'R':'red', 'G':'green'}\n",
    "\n",
    "# plt.figure(figsize = (16, 8))\n",
    "# plt.title('Positive/Negative Polarity Score Difference vs. Neutral Polarity Score', fontsize = 20, y = 1.01)\n",
    "# plt.xlabel('Neutral Polarity Score', fontsize = 15)\n",
    "# plt.xlim([df['neu'].min(), 1.01])\n",
    "# plt.ylabel('Positive Polarity Score - Negative Polarity Score', fontsize = 15)\n",
    "# plt.ylim([df['diff'].min(), df['diff'].max()])\n",
    "\n",
    "# x = df['neu']\n",
    "# y = df['diff']\n",
    "# area = df['word_count'] * .5\n",
    "\n",
    "# diets = ['V','M']\n",
    "# colors_list = ['green','red']\n",
    "\n",
    "# recs = []\n",
    "# for i in range(0,len(colors_list)):\n",
    "#     recs.append(mpatches.Rectangle((0, 0), 1, 1, fc = colors_list[i]))\n",
    "# plt.legend(recs, diets, loc = 'best')\n",
    "\n",
    "# plt.annotate('*Point size proportional to word count of comment', (1,0), (-200, -25), \\\n",
    "#              xycoords = 'axes fraction', textcoords = 'offset points', va = 'top', fontsize = 13)\n",
    "\n",
    "# plt.scatter(x, y, s = area, c = df['y_label'].apply(lambda x: colors[x]), alpha = 0.5)\n",
    "\n",
    "# plt.show()"
   ]
  },
  {
   "cell_type": "code",
   "execution_count": 137,
   "metadata": {},
   "outputs": [
    {
     "data": {
      "text/html": [
       "<div>\n",
       "<style scoped>\n",
       "    .dataframe tbody tr th:only-of-type {\n",
       "        vertical-align: middle;\n",
       "    }\n",
       "\n",
       "    .dataframe tbody tr th {\n",
       "        vertical-align: top;\n",
       "    }\n",
       "\n",
       "    .dataframe thead th {\n",
       "        text-align: right;\n",
       "    }\n",
       "</style>\n",
       "<table border=\"1\" class=\"dataframe\">\n",
       "  <thead>\n",
       "    <tr style=\"text-align: right;\">\n",
       "      <th></th>\n",
       "      <th>user</th>\n",
       "      <th>timestamp</th>\n",
       "      <th>commentText</th>\n",
       "      <th>y_label</th>\n",
       "      <th>likes</th>\n",
       "      <th>hasReplies</th>\n",
       "      <th>replies.commentText</th>\n",
       "      <th>preds</th>\n",
       "      <th>compound</th>\n",
       "      <th>neg</th>\n",
       "      <th>neu</th>\n",
       "      <th>pos</th>\n",
       "      <th>diff</th>\n",
       "      <th>reading_ease</th>\n",
       "      <th>grade_level</th>\n",
       "      <th>target</th>\n",
       "      <th>word_count</th>\n",
       "    </tr>\n",
       "  </thead>\n",
       "  <tbody>\n",
       "    <tr>\n",
       "      <th>0</th>\n",
       "      <td>Yasmin Sallam</td>\n",
       "      <td>1556813178506</td>\n",
       "      <td>Ok so I’m muslim, so we only eat halal foods,w...</td>\n",
       "      <td>0</td>\n",
       "      <td>0</td>\n",
       "      <td>False</td>\n",
       "      <td>NaN</td>\n",
       "      <td>0</td>\n",
       "      <td>0.2933</td>\n",
       "      <td>0.175</td>\n",
       "      <td>0.593</td>\n",
       "      <td>0.232</td>\n",
       "      <td>0.057</td>\n",
       "      <td>45.43</td>\n",
       "      <td>21.6</td>\n",
       "      <td>1</td>\n",
       "      <td>59</td>\n",
       "    </tr>\n",
       "    <tr>\n",
       "      <th>1</th>\n",
       "      <td>Tara Z</td>\n",
       "      <td>1556812818508</td>\n",
       "      <td>As a vegan, I felt very uncomfortable with wat...</td>\n",
       "      <td>1</td>\n",
       "      <td>1</td>\n",
       "      <td>False</td>\n",
       "      <td>NaN</td>\n",
       "      <td>1</td>\n",
       "      <td>0.8346</td>\n",
       "      <td>0.135</td>\n",
       "      <td>0.598</td>\n",
       "      <td>0.267</td>\n",
       "      <td>0.132</td>\n",
       "      <td>69.18</td>\n",
       "      <td>6.2</td>\n",
       "      <td>1</td>\n",
       "      <td>53</td>\n",
       "    </tr>\n",
       "    <tr>\n",
       "      <th>2</th>\n",
       "      <td>QueenEm</td>\n",
       "      <td>1556807658510</td>\n",
       "      <td>In all honesty, vegan eating is actually more ...</td>\n",
       "      <td>0</td>\n",
       "      <td>0</td>\n",
       "      <td>False</td>\n",
       "      <td>NaN</td>\n",
       "      <td>0</td>\n",
       "      <td>0.4569</td>\n",
       "      <td>0.000</td>\n",
       "      <td>0.834</td>\n",
       "      <td>0.166</td>\n",
       "      <td>0.166</td>\n",
       "      <td>68.26</td>\n",
       "      <td>6.6</td>\n",
       "      <td>1</td>\n",
       "      <td>23</td>\n",
       "    </tr>\n",
       "    <tr>\n",
       "      <th>3</th>\n",
       "      <td>Jenda Mh</td>\n",
       "      <td>1556804058512</td>\n",
       "      <td>Enjoying my steak while watching this, remembe...</td>\n",
       "      <td>0</td>\n",
       "      <td>0</td>\n",
       "      <td>False</td>\n",
       "      <td>NaN</td>\n",
       "      <td>0</td>\n",
       "      <td>0.9042</td>\n",
       "      <td>0.000</td>\n",
       "      <td>0.621</td>\n",
       "      <td>0.379</td>\n",
       "      <td>0.379</td>\n",
       "      <td>63.02</td>\n",
       "      <td>10.7</td>\n",
       "      <td>1</td>\n",
       "      <td>25</td>\n",
       "    </tr>\n",
       "    <tr>\n",
       "      <th>4</th>\n",
       "      <td>Cavalio Thorson</td>\n",
       "      <td>1556800458514</td>\n",
       "      <td>That girl is the type to try and make me feel ...</td>\n",
       "      <td>0</td>\n",
       "      <td>2</td>\n",
       "      <td>False</td>\n",
       "      <td>NaN</td>\n",
       "      <td>0</td>\n",
       "      <td>-0.5423</td>\n",
       "      <td>0.132</td>\n",
       "      <td>0.868</td>\n",
       "      <td>0.000</td>\n",
       "      <td>-0.132</td>\n",
       "      <td>70.47</td>\n",
       "      <td>9.9</td>\n",
       "      <td>0</td>\n",
       "      <td>26</td>\n",
       "    </tr>\n",
       "  </tbody>\n",
       "</table>\n",
       "</div>"
      ],
      "text/plain": [
       "              user      timestamp  \\\n",
       "0    Yasmin Sallam  1556813178506   \n",
       "1           Tara Z  1556812818508   \n",
       "2          QueenEm  1556807658510   \n",
       "3         Jenda Mh  1556804058512   \n",
       "4  Cavalio Thorson  1556800458514   \n",
       "\n",
       "                                         commentText y_label  likes  \\\n",
       "0  Ok so I’m muslim, so we only eat halal foods,w...       0      0   \n",
       "1  As a vegan, I felt very uncomfortable with wat...       1      1   \n",
       "2  In all honesty, vegan eating is actually more ...       0      0   \n",
       "3  Enjoying my steak while watching this, remembe...       0      0   \n",
       "4  That girl is the type to try and make me feel ...       0      2   \n",
       "\n",
       "   hasReplies  replies.commentText preds  compound    neg    neu    pos  \\\n",
       "0       False                  NaN     0    0.2933  0.175  0.593  0.232   \n",
       "1       False                  NaN     1    0.8346  0.135  0.598  0.267   \n",
       "2       False                  NaN     0    0.4569  0.000  0.834  0.166   \n",
       "3       False                  NaN     0    0.9042  0.000  0.621  0.379   \n",
       "4       False                  NaN     0   -0.5423  0.132  0.868  0.000   \n",
       "\n",
       "    diff  reading_ease  grade_level  target  word_count  \n",
       "0  0.057         45.43         21.6       1          59  \n",
       "1  0.132         69.18          6.2       1          53  \n",
       "2  0.166         68.26          6.6       1          23  \n",
       "3  0.379         63.02         10.7       1          25  \n",
       "4 -0.132         70.47          9.9       0          26  "
      ]
     },
     "execution_count": 137,
     "metadata": {},
     "output_type": "execute_result"
    }
   ],
   "source": [
    "df.head()"
   ]
  },
  {
   "cell_type": "code",
   "execution_count": 158,
   "metadata": {},
   "outputs": [
    {
     "data": {
      "text/plain": [
       "0    Ok so I’m muslim, so we only eat halal foods,w...\n",
       "1    As a vegan, I felt very uncomfortable with wat...\n",
       "2    In all honesty, vegan eating is actually more ...\n",
       "3    Enjoying my steak while watching this, remembe...\n",
       "4    That girl is the type to try and make me feel ...\n",
       "Name: commentText, dtype: object"
      ]
     },
     "execution_count": 158,
     "metadata": {},
     "output_type": "execute_result"
    }
   ],
   "source": [
    "text = df['commentText']\n",
    "text = text.transpose()\n",
    "text.head()"
   ]
  },
  {
   "cell_type": "code",
   "execution_count": null,
   "metadata": {},
   "outputs": [],
   "source": []
  },
  {
   "cell_type": "code",
   "execution_count": null,
   "metadata": {},
   "outputs": [],
   "source": []
  },
  {
   "cell_type": "code",
   "execution_count": 152,
   "metadata": {},
   "outputs": [
    {
     "ename": "AttributeError",
     "evalue": "'Series' object has no attribute 'ENGLISH_STOP_WORDS'",
     "output_type": "error",
     "traceback": [
      "\u001b[0;31m---------------------------------------------------------------------------\u001b[0m",
      "\u001b[0;31mAttributeError\u001b[0m                            Traceback (most recent call last)",
      "\u001b[0;32m<ipython-input-152-0dfd376d81f2>\u001b[0m in \u001b[0;36m<module>\u001b[0;34m\u001b[0m\n\u001b[0;32m----> 1\u001b[0;31m \u001b[0mstop_words\u001b[0m \u001b[0;34m=\u001b[0m \u001b[0mdf\u001b[0m\u001b[0;34m[\u001b[0m\u001b[0;34m'commentText'\u001b[0m\u001b[0;34m]\u001b[0m\u001b[0;34m.\u001b[0m\u001b[0mENGLISH_STOP_WORDS\u001b[0m\u001b[0;34m.\u001b[0m\u001b[0munion\u001b[0m\u001b[0;34m(\u001b[0m\u001b[0madd_stop_words\u001b[0m\u001b[0;34m)\u001b[0m\u001b[0;34m\u001b[0m\u001b[0;34m\u001b[0m\u001b[0m\n\u001b[0m\u001b[1;32m      2\u001b[0m \u001b[0;34m\u001b[0m\u001b[0m\n\u001b[1;32m      3\u001b[0m wc = WordCloud(stopwords=stop_words, background_color=\"white\", colormap=\"Dark2\",\n\u001b[1;32m      4\u001b[0m                max_font_size=150, random_state=42)\n",
      "\u001b[0;32m/anaconda3/lib/python3.6/site-packages/pandas/core/generic.py\u001b[0m in \u001b[0;36m__getattr__\u001b[0;34m(self, name)\u001b[0m\n\u001b[1;32m   5065\u001b[0m             \u001b[0;32mif\u001b[0m \u001b[0mself\u001b[0m\u001b[0;34m.\u001b[0m\u001b[0m_info_axis\u001b[0m\u001b[0;34m.\u001b[0m\u001b[0m_can_hold_identifiers_and_holds_name\u001b[0m\u001b[0;34m(\u001b[0m\u001b[0mname\u001b[0m\u001b[0;34m)\u001b[0m\u001b[0;34m:\u001b[0m\u001b[0;34m\u001b[0m\u001b[0;34m\u001b[0m\u001b[0m\n\u001b[1;32m   5066\u001b[0m                 \u001b[0;32mreturn\u001b[0m \u001b[0mself\u001b[0m\u001b[0;34m[\u001b[0m\u001b[0mname\u001b[0m\u001b[0;34m]\u001b[0m\u001b[0;34m\u001b[0m\u001b[0;34m\u001b[0m\u001b[0m\n\u001b[0;32m-> 5067\u001b[0;31m             \u001b[0;32mreturn\u001b[0m \u001b[0mobject\u001b[0m\u001b[0;34m.\u001b[0m\u001b[0m__getattribute__\u001b[0m\u001b[0;34m(\u001b[0m\u001b[0mself\u001b[0m\u001b[0;34m,\u001b[0m \u001b[0mname\u001b[0m\u001b[0;34m)\u001b[0m\u001b[0;34m\u001b[0m\u001b[0;34m\u001b[0m\u001b[0m\n\u001b[0m\u001b[1;32m   5068\u001b[0m \u001b[0;34m\u001b[0m\u001b[0m\n\u001b[1;32m   5069\u001b[0m     \u001b[0;32mdef\u001b[0m \u001b[0m__setattr__\u001b[0m\u001b[0;34m(\u001b[0m\u001b[0mself\u001b[0m\u001b[0;34m,\u001b[0m \u001b[0mname\u001b[0m\u001b[0;34m,\u001b[0m \u001b[0mvalue\u001b[0m\u001b[0;34m)\u001b[0m\u001b[0;34m:\u001b[0m\u001b[0;34m\u001b[0m\u001b[0;34m\u001b[0m\u001b[0m\n",
      "\u001b[0;31mAttributeError\u001b[0m: 'Series' object has no attribute 'ENGLISH_STOP_WORDS'"
     ]
    }
   ],
   "source": [
    "stop_words = df['commentText'].ENGLISH_STOP_WORDS.union(add_stop_words)\n",
    "\n",
    "wc = WordCloud(stopwords=stop_words, background_color=\"white\", colormap=\"Dark2\",\n",
    "               max_font_size=150, random_state=42)"
   ]
  },
  {
   "cell_type": "code",
   "execution_count": null,
   "metadata": {},
   "outputs": [],
   "source": []
  }
 ],
 "metadata": {
  "kernelspec": {
   "display_name": "Python 3",
   "language": "python",
   "name": "python3"
  },
  "language_info": {
   "codemirror_mode": {
    "name": "ipython",
    "version": 3
   },
   "file_extension": ".py",
   "mimetype": "text/x-python",
   "name": "python",
   "nbconvert_exporter": "python",
   "pygments_lexer": "ipython3",
   "version": "3.6.8"
  }
 },
 "nbformat": 4,
 "nbformat_minor": 2
}
